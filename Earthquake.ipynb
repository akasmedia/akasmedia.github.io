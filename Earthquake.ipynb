{
  "nbformat": 4,
  "nbformat_minor": 0,
  "metadata": {
    "colab": {
      "name": "Earthquake.ipynb",
      "provenance": [],
      "authorship_tag": "ABX9TyOmJb02u9wQRYfgLytJAWKx",
      "include_colab_link": true
    },
    "kernelspec": {
      "name": "python3",
      "display_name": "Python 3"
    },
    "language_info": {
      "name": "python"
    }
  },
  "cells": [
    {
      "cell_type": "markdown",
      "metadata": {
        "id": "view-in-github",
        "colab_type": "text"
      },
      "source": [
        "<a href=\"https://colab.research.google.com/github/akasmedia/akasmedia.github.io/blob/master/Earthquake.ipynb\" target=\"_parent\"><img src=\"https://colab.research.google.com/assets/colab-badge.svg\" alt=\"Open In Colab\"/></a>"
      ]
    },
    {
      "cell_type": "code",
      "source": [
        "import csv\n",
        "with open(\"/content/earthquakes.csv\", \"r\") as dataFile:\n",
        "\n",
        "\tcsvReader = csv.reader(dataFile)             #get iterator\n",
        "\n",
        "\ttitles = next(csvReader)                           #read titles line\n",
        "\n",
        "\tprint(\"titles:\", titles)             \t              #output titles\n",
        "\n",
        "\n",
        "\tearthquakeLine = next(csvReader)           #read first earthquake line\n",
        "\n",
        "\tprint(\"earthquake:\", earthquakeLine)       #output all data\n",
        "\n",
        "\tprint(\"latitude:\", earthquakeLine[1])        #output latitude\n",
        "\n",
        "\tprint(\"longitude:\", earthquakeLine[2])     #output longitude\n",
        "\n",
        "titles: ['time', 'latitude', 'longitude', 'depth', 'mag', 'magType', 'nst', 'gap', 'dmin', 'rms', 'net', 'id', \n",
        "'updated', 'place', 'type', 'horizontalError', 'depthError', 'magError', 'magNst', 'status', \n",
        "'locationSource', 'magSource'] \n",
        "\n",
        "earthquake: ['2018-10-10T16:18:27.120Z', '-10.9133', '162.3903', '35', '5.1', 'mb', '', '63', '2.816', '0.83', 'us', 'us1000ha2w', '2018-10-10T16:37:38.040Z', '72km SE of Kirakira, Solomon Islands', 'earthquake', \n",
        "'9.2', '2', '0.048', '139', 'reviewed', 'us', 'us'] \n",
        "\n",
        "latitude: -10.9133\n",
        "\n",
        "longitude: 162.3903"
      ],
      "metadata": {
        "colab": {
          "base_uri": "https://localhost:8080/"
        },
        "id": "0HVZv-8zfIRr",
        "outputId": "c0c275c7-c434-471e-a53b-bd8a5e83f0ee"
      },
      "execution_count": 29,
      "outputs": [
        {
          "output_type": "stream",
          "name": "stdout",
          "text": [
            "titles: ['time', 'latitude', 'longitude', 'depth', 'mag', 'magType', 'nst', 'gap', 'dmin', 'rms', 'net', 'id', 'updated', 'place', 'type', 'horizontalError', 'depthError', 'magError', 'magNst', 'status', 'locationSource', 'magSource']\n",
            "earthquake: ['2018-10-10T16:18:27.120Z', '-10.9133', '162.3903', '35', '5.1', 'mb', '', '63', '2.816', '0.83', 'us', 'us1000ha2w', '2018-10-10T16:37:38.040Z', '72km SE of Kirakira, Solomon Islands', 'earthquake', '9.2', '2', '0.048', '139', 'reviewed', 'us', 'us']\n",
            "latitude: -10.9133\n",
            "longitude: 162.3903\n"
          ]
        }
      ]
    },
    {
      "cell_type": "code",
      "source": [
        "def readEarthquakeFile(filename):\n",
        "\n",
        "    with open(filename, \"r\") as dataFile:\n",
        "       csvReader = csv.reader(dataFile) \n",
        "       titles = next(csvReader)       #read and skip titles\n",
        "       dataDict = {}\n",
        "\n",
        "       key = 0\n",
        "\n",
        " \n",
        "\n",
        "       for aLine in csvReader:\n",
        "\n",
        "          key = key + 1                    #key is the line number\n",
        "\n",
        "          lat = float(aLine[1])          #extract latitude\n",
        "\n",
        "          long = float(aLine[2])       #extract longitude\n",
        "\n",
        "          dataDict[key] = [long, lat]\n",
        "\n",
        " \n",
        "\n",
        "    return dataDict\n",
        "\n"
      ],
      "metadata": {
        "id": "KlieexIAfzt1"
      },
      "execution_count": 30,
      "outputs": []
    },
    {
      "cell_type": "code",
      "source": [
        "def visualizeQuakes(dataFile):\n",
        "\n",
        "    dataDict = readEarthquakeFile(dataFile)\n",
        "\n",
        "    quakeCentroids = createCentroids(6, dataDict)\n",
        "\n",
        "    clusters = createClusters(6, quakeCentroids, dataDict, 7)\n",
        "\n",
        "    import turtle\n",
        "\n",
        "    quakeT = turtle.Turtle()\n",
        "\n",
        "    quakeWin = turtle.Screen()\n",
        "\n",
        "    quakeWin.bgpic(\"worldmap.gif\")\n",
        "\n",
        "    quakeWin.screensize(448, 252)\n",
        "\n",
        " \n",
        "\n",
        "    wFactor = (quakeWin.screensize()[0]/2)/180\n",
        "\n",
        "    hFactor = (quakeWin.screensize()[1]/2)/90\n",
        "\n",
        " \n",
        "\n",
        "    quakeT.hideturtle()\n",
        "\n",
        "    quakeT.up()\n",
        "\n",
        "    quakeT.color()\n",
        "\n",
        "colorList = [\"red\",\"lawngreen\",\"blue\",\"orange\",\"cyan\",\"yellow\"]\n",
        "\n",
        " \n",
        "\n",
        "for clusterIndex in range(6):\n",
        "\n",
        "        quakeT.color(colorList[clusterIndex]) #choose cluster color\n",
        "\n",
        "        for aKey in clusters[clusterIndex]:\n",
        "\n",
        "            lon = dataDict[aKey][0]\n",
        "\n",
        "            lat = dataDict[aKey][1]\n",
        "\n",
        "            quakeT.goto(lon * wFactor, lat * hFactor)\n",
        "\n",
        "            quakeT.dot()\n",
        "\n",
        "            quakeWin.exitonclick()\n",
        "\n",
        "\n",
        " \n",
        "\n"
      ],
      "metadata": {
        "colab": {
          "base_uri": "https://localhost:8080/",
          "height": 235
        },
        "id": "9Xo8ozM0f38H",
        "outputId": "d8bcd54e-6663-48c0-992c-16375a9d03db"
      },
      "execution_count": 44,
      "outputs": [
        {
          "output_type": "error",
          "ename": "NameError",
          "evalue": "ignored",
          "traceback": [
            "\u001b[0;31m---------------------------------------------------------------------------\u001b[0m",
            "\u001b[0;31mNameError\u001b[0m                                 Traceback (most recent call last)",
            "\u001b[0;32m<ipython-input-44-3d385b64d09c>\u001b[0m in \u001b[0;36m<module>\u001b[0;34m()\u001b[0m\n\u001b[1;32m     37\u001b[0m \u001b[0;32mfor\u001b[0m \u001b[0mclusterIndex\u001b[0m \u001b[0;32min\u001b[0m \u001b[0mrange\u001b[0m\u001b[0;34m(\u001b[0m\u001b[0;36m6\u001b[0m\u001b[0;34m)\u001b[0m\u001b[0;34m:\u001b[0m\u001b[0;34m\u001b[0m\u001b[0;34m\u001b[0m\u001b[0m\n\u001b[1;32m     38\u001b[0m \u001b[0;34m\u001b[0m\u001b[0m\n\u001b[0;32m---> 39\u001b[0;31m         \u001b[0mquakeT\u001b[0m\u001b[0;34m.\u001b[0m\u001b[0mcolor\u001b[0m\u001b[0;34m(\u001b[0m\u001b[0mcolorList\u001b[0m\u001b[0;34m[\u001b[0m\u001b[0mclusterIndex\u001b[0m\u001b[0;34m]\u001b[0m\u001b[0;34m)\u001b[0m \u001b[0;31m#choose cluster color\u001b[0m\u001b[0;34m\u001b[0m\u001b[0;34m\u001b[0m\u001b[0m\n\u001b[0m\u001b[1;32m     40\u001b[0m \u001b[0;34m\u001b[0m\u001b[0m\n\u001b[1;32m     41\u001b[0m         \u001b[0;32mfor\u001b[0m \u001b[0maKey\u001b[0m \u001b[0;32min\u001b[0m \u001b[0mclusters\u001b[0m\u001b[0;34m[\u001b[0m\u001b[0mclusterIndex\u001b[0m\u001b[0;34m]\u001b[0m\u001b[0;34m:\u001b[0m\u001b[0;34m\u001b[0m\u001b[0;34m\u001b[0m\u001b[0m\n",
            "\u001b[0;31mNameError\u001b[0m: name 'quakeT' is not defined"
          ]
        }
      ]
    }
  ]
}